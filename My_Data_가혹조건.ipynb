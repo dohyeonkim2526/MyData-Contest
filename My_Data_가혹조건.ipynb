{
  "nbformat": 4,
  "nbformat_minor": 0,
  "metadata": {
    "colab": {
      "name": "My-Data-가혹조건.ipynb",
      "provenance": [],
      "collapsed_sections": [],
      "authorship_tag": "ABX9TyOUGpZri7HvWU9sCgVyLeL0",
      "include_colab_link": true
    },
    "kernelspec": {
      "name": "python3",
      "display_name": "Python 3"
    }
  },
  "cells": [
    {
      "cell_type": "markdown",
      "metadata": {
        "id": "view-in-github",
        "colab_type": "text"
      },
      "source": [
        "<a href=\"https://colab.research.google.com/github/dohyeonkim2526/MyData-Contest/blob/master/My_Data_%EA%B0%80%ED%98%B9%EC%A1%B0%EA%B1%B4.ipynb\" target=\"_parent\"><img src=\"https://colab.research.google.com/assets/colab-badge.svg\" alt=\"Open In Colab\"/></a>"
      ]
    },
    {
      "cell_type": "code",
      "metadata": {
        "id": "gNxSEnJAGPjl",
        "colab_type": "code",
        "colab": {
          "base_uri": "https://localhost:8080/",
          "height": 35
        },
        "outputId": "2ab06e4f-81ec-4954-963f-cc1662f4044f"
      },
      "source": [
        "from google.colab import drive\n",
        "drive.mount('/content/gdrive')"
      ],
      "execution_count": 29,
      "outputs": [
        {
          "output_type": "stream",
          "text": [
            "Drive already mounted at /content/gdrive; to attempt to forcibly remount, call drive.mount(\"/content/gdrive\", force_remount=True).\n"
          ],
          "name": "stdout"
        }
      ]
    },
    {
      "cell_type": "code",
      "metadata": {
        "id": "XQg1cMwkGWME",
        "colab_type": "code",
        "colab": {}
      },
      "source": [
        "import os\n",
        "import pandas as pd\n",
        "import numpy as np\n",
        "\n",
        "dt_dir='/content/gdrive/My Drive' \n",
        "dt_name='데이터-가혹.xlsx'\n",
        "dt_dir=os.path.join(dt_dir, dt_name) #희승의 'wb'"
      ],
      "execution_count": 30,
      "outputs": []
    },
    {
      "cell_type": "code",
      "metadata": {
        "id": "FAz9f532W8VG",
        "colab_type": "code",
        "colab": {}
      },
      "source": [
        "#승이 기준\n",
        "\n",
        "#from xlrd import oepn_workbook\n",
        "#wb=open_workbook('데이터경로/data.xlsx')\n",
        "#data=pd.read_excel(wb)"
      ],
      "execution_count": 31,
      "outputs": []
    },
    {
      "cell_type": "code",
      "metadata": {
        "id": "d8u41mXEG_L5",
        "colab_type": "code",
        "colab": {}
      },
      "source": [
        "data=pd.read_excel(dt_dir) #희승의 'data'"
      ],
      "execution_count": 32,
      "outputs": []
    },
    {
      "cell_type": "code",
      "metadata": {
        "id": "S3GJp4-K3gD0",
        "colab_type": "code",
        "colab": {
          "base_uri": "https://localhost:8080/",
          "height": 192
        },
        "outputId": "b9ee715e-938b-42e4-a4d8-14e18c03ca10"
      },
      "source": [
        "print(data.dtypes)"
      ],
      "execution_count": 33,
      "outputs": [
        {
          "output_type": "stream",
          "text": [
            "주행 기록계 값                        float64\n",
            "기록계 값 차이 (전일 기준) (km)           float64\n",
            "시간당 기어 수                          int64\n",
            "위도                              float64\n",
            "경도                              float64\n",
            "타이어 압력                          float64\n",
            "가속(150-200km/h)                   int64\n",
            "데이터 기준 일자                datetime64[ns]\n",
            "데이터 기준 시간                        object\n",
            "dtype: object\n"
          ],
          "name": "stdout"
        }
      ]
    },
    {
      "cell_type": "code",
      "metadata": {
        "id": "iCy0LyMr-ZhV",
        "colab_type": "code",
        "colab": {}
      },
      "source": [
        "data['데이터 기준 일자']=pd.to_datetime(data['데이터 기준 일자'], format='%Y%m%d')"
      ],
      "execution_count": 34,
      "outputs": []
    },
    {
      "cell_type": "code",
      "metadata": {
        "id": "_MiK_-dIKvna",
        "colab_type": "code",
        "colab": {
          "base_uri": "https://localhost:8080/",
          "height": 391
        },
        "outputId": "d358278c-71fb-45a4-9796-b73a5ef6b3ab"
      },
      "source": [
        "data"
      ],
      "execution_count": 35,
      "outputs": [
        {
          "output_type": "execute_result",
          "data": {
            "text/html": [
              "<div>\n",
              "<style scoped>\n",
              "    .dataframe tbody tr th:only-of-type {\n",
              "        vertical-align: middle;\n",
              "    }\n",
              "\n",
              "    .dataframe tbody tr th {\n",
              "        vertical-align: top;\n",
              "    }\n",
              "\n",
              "    .dataframe thead th {\n",
              "        text-align: right;\n",
              "    }\n",
              "</style>\n",
              "<table border=\"1\" class=\"dataframe\">\n",
              "  <thead>\n",
              "    <tr style=\"text-align: right;\">\n",
              "      <th></th>\n",
              "      <th>주행 기록계 값</th>\n",
              "      <th>기록계 값 차이 (전일 기준) (km)</th>\n",
              "      <th>시간당 기어 수</th>\n",
              "      <th>위도</th>\n",
              "      <th>경도</th>\n",
              "      <th>타이어 압력</th>\n",
              "      <th>가속(150-200km/h)</th>\n",
              "      <th>데이터 기준 일자</th>\n",
              "      <th>데이터 기준 시간</th>\n",
              "    </tr>\n",
              "  </thead>\n",
              "  <tbody>\n",
              "    <tr>\n",
              "      <th>0</th>\n",
              "      <td>57858.9</td>\n",
              "      <td>40.0</td>\n",
              "      <td>2</td>\n",
              "      <td>37.555179</td>\n",
              "      <td>126.970738</td>\n",
              "      <td>35.3</td>\n",
              "      <td>0</td>\n",
              "      <td>2020-08-31</td>\n",
              "      <td>23:50:00</td>\n",
              "    </tr>\n",
              "    <tr>\n",
              "      <th>1</th>\n",
              "      <td>57858.9</td>\n",
              "      <td>40.0</td>\n",
              "      <td>0</td>\n",
              "      <td>37.555179</td>\n",
              "      <td>126.970738</td>\n",
              "      <td>35.3</td>\n",
              "      <td>0</td>\n",
              "      <td>2020-09-01</td>\n",
              "      <td>00:00:00</td>\n",
              "    </tr>\n",
              "    <tr>\n",
              "      <th>2</th>\n",
              "      <td>57858.9</td>\n",
              "      <td>40.0</td>\n",
              "      <td>0</td>\n",
              "      <td>37.555179</td>\n",
              "      <td>126.970738</td>\n",
              "      <td>35.3</td>\n",
              "      <td>0</td>\n",
              "      <td>2020-09-01</td>\n",
              "      <td>00:10:00</td>\n",
              "    </tr>\n",
              "    <tr>\n",
              "      <th>3</th>\n",
              "      <td>57858.9</td>\n",
              "      <td>40.0</td>\n",
              "      <td>0</td>\n",
              "      <td>37.555179</td>\n",
              "      <td>126.970738</td>\n",
              "      <td>35.3</td>\n",
              "      <td>0</td>\n",
              "      <td>2020-09-01</td>\n",
              "      <td>00:20:00</td>\n",
              "    </tr>\n",
              "    <tr>\n",
              "      <th>4</th>\n",
              "      <td>57858.9</td>\n",
              "      <td>40.0</td>\n",
              "      <td>0</td>\n",
              "      <td>37.555179</td>\n",
              "      <td>126.970738</td>\n",
              "      <td>35.3</td>\n",
              "      <td>0</td>\n",
              "      <td>2020-09-01</td>\n",
              "      <td>00:30:00</td>\n",
              "    </tr>\n",
              "    <tr>\n",
              "      <th>...</th>\n",
              "      <td>...</td>\n",
              "      <td>...</td>\n",
              "      <td>...</td>\n",
              "      <td>...</td>\n",
              "      <td>...</td>\n",
              "      <td>...</td>\n",
              "      <td>...</td>\n",
              "      <td>...</td>\n",
              "      <td>...</td>\n",
              "    </tr>\n",
              "    <tr>\n",
              "      <th>141</th>\n",
              "      <td>57903.3</td>\n",
              "      <td>40.0</td>\n",
              "      <td>0</td>\n",
              "      <td>37.556635</td>\n",
              "      <td>126.923633</td>\n",
              "      <td>35.2</td>\n",
              "      <td>0</td>\n",
              "      <td>2020-09-01</td>\n",
              "      <td>23:20:00</td>\n",
              "    </tr>\n",
              "    <tr>\n",
              "      <th>142</th>\n",
              "      <td>57903.3</td>\n",
              "      <td>40.0</td>\n",
              "      <td>0</td>\n",
              "      <td>37.556635</td>\n",
              "      <td>126.923633</td>\n",
              "      <td>35.2</td>\n",
              "      <td>0</td>\n",
              "      <td>2020-09-01</td>\n",
              "      <td>23:30:00</td>\n",
              "    </tr>\n",
              "    <tr>\n",
              "      <th>143</th>\n",
              "      <td>57903.3</td>\n",
              "      <td>40.0</td>\n",
              "      <td>0</td>\n",
              "      <td>37.556635</td>\n",
              "      <td>126.923633</td>\n",
              "      <td>35.2</td>\n",
              "      <td>0</td>\n",
              "      <td>2020-09-01</td>\n",
              "      <td>23:40:00</td>\n",
              "    </tr>\n",
              "    <tr>\n",
              "      <th>144</th>\n",
              "      <td>57903.3</td>\n",
              "      <td>40.0</td>\n",
              "      <td>0</td>\n",
              "      <td>37.556635</td>\n",
              "      <td>126.923633</td>\n",
              "      <td>35.2</td>\n",
              "      <td>0</td>\n",
              "      <td>2020-09-01</td>\n",
              "      <td>23:50:00</td>\n",
              "    </tr>\n",
              "    <tr>\n",
              "      <th>145</th>\n",
              "      <td>57903.3</td>\n",
              "      <td>44.4</td>\n",
              "      <td>0</td>\n",
              "      <td>37.556635</td>\n",
              "      <td>126.923633</td>\n",
              "      <td>35.2</td>\n",
              "      <td>0</td>\n",
              "      <td>2020-09-02</td>\n",
              "      <td>00:00:00</td>\n",
              "    </tr>\n",
              "  </tbody>\n",
              "</table>\n",
              "<p>146 rows × 9 columns</p>\n",
              "</div>"
            ],
            "text/plain": [
              "     주행 기록계 값  기록계 값 차이 (전일 기준) (km)  ...  데이터 기준 일자  데이터 기준 시간\n",
              "0     57858.9                   40.0  ... 2020-08-31   23:50:00\n",
              "1     57858.9                   40.0  ... 2020-09-01   00:00:00\n",
              "2     57858.9                   40.0  ... 2020-09-01   00:10:00\n",
              "3     57858.9                   40.0  ... 2020-09-01   00:20:00\n",
              "4     57858.9                   40.0  ... 2020-09-01   00:30:00\n",
              "..        ...                    ...  ...        ...        ...\n",
              "141   57903.3                   40.0  ... 2020-09-01   23:20:00\n",
              "142   57903.3                   40.0  ... 2020-09-01   23:30:00\n",
              "143   57903.3                   40.0  ... 2020-09-01   23:40:00\n",
              "144   57903.3                   40.0  ... 2020-09-01   23:50:00\n",
              "145   57903.3                   44.4  ... 2020-09-02   00:00:00\n",
              "\n",
              "[146 rows x 9 columns]"
            ]
          },
          "metadata": {
            "tags": []
          },
          "execution_count": 35
        }
      ]
    },
    {
      "cell_type": "code",
      "metadata": {
        "id": "HAs25BfwdC0j",
        "colab_type": "code",
        "colab": {}
      },
      "source": [
        "date_list=data['데이터 기준 일자'].unique()"
      ],
      "execution_count": 36,
      "outputs": []
    },
    {
      "cell_type": "code",
      "metadata": {
        "id": "2HnBeABrHJhP",
        "colab_type": "code",
        "colab": {}
      },
      "source": [
        "dist=[]\n",
        "total_dist=[]\n",
        "\n",
        "def find_odometer(dt):\n",
        "  find=dt['주행 기록계 값']\n",
        "  find=round(find, 3)\n",
        "  total_dist.append(find)"
      ],
      "execution_count": 37,
      "outputs": []
    },
    {
      "cell_type": "code",
      "metadata": {
        "id": "VSs3bsR1HeDa",
        "colab_type": "code",
        "colab": {}
      },
      "source": [
        "def find_daily_distance(dt):\n",
        "  find=dt['기록계 값 차이 (전일 기준) (km)']\n",
        "  find=round(find,3)\n",
        "  dist.append(find)"
      ],
      "execution_count": 38,
      "outputs": []
    },
    {
      "cell_type": "code",
      "metadata": {
        "id": "Sp_ELbHLGVdl",
        "colab_type": "code",
        "colab": {}
      },
      "source": [
        "def div_data(dt): # div_data(data_list)\n",
        "\n",
        "  for i in range(len(dt)):\n",
        "    date=dt[i]\n",
        "    n_data=data[data['데이터 기준 일자']==date]\n",
        "    n_dist=n_data.iloc[-1]\n",
        "    find_odometer(n_dist) \n",
        "    find_daily_distance(n_dist)\n"
      ],
      "execution_count": 39,
      "outputs": []
    },
    {
      "cell_type": "code",
      "metadata": {
        "id": "kLkr_MFIIXRH",
        "colab_type": "code",
        "colab": {}
      },
      "source": [
        "div_data(date_list) # total_dist, dist 생성"
      ],
      "execution_count": 40,
      "outputs": []
    },
    {
      "cell_type": "code",
      "metadata": {
        "id": "8b4gCDiRIzuu",
        "colab_type": "code",
        "colab": {}
      },
      "source": [
        ""
      ],
      "execution_count": 40,
      "outputs": []
    },
    {
      "cell_type": "code",
      "metadata": {
        "id": "rgLTqkheJNdB",
        "colab_type": "code",
        "colab": {}
      },
      "source": [
        "def with_n_data(dl): # with_n_data(date_list)\n",
        "  harsh=0\n",
        "\n",
        "  for i in range(len(dl)):\n",
        "    sum=0\n",
        "    date_dist=dist[i]\n",
        "    date=dl[i]   \n",
        "    n_data=data[data['데이터 기준 일자']==date]\n",
        "    sum=n_data['가속(150-200km/h)'].sum()\n",
        "\n",
        "    if sum >= (0.2*date_dist): # 일일 주행거리 기준 0.2배 이상 가속주행 확인\n",
        "      harsh += 1\n",
        "  \n",
        "  return harsh"
      ],
      "execution_count": 41,
      "outputs": []
    },
    {
      "cell_type": "code",
      "metadata": {
        "id": "CrQD439aMszh",
        "colab_type": "code",
        "colab": {}
      },
      "source": [
        "def pressure(dt): # pressure(data)\n",
        "  MAX_Pres=44\n",
        "  NORM_Pres=32\n",
        "  \n",
        "  harsh=0\n",
        "  count=0\n",
        "  pres=0\n",
        "\n",
        "  first_pres=dt['타이어 압력'].iloc[0]\n",
        "\n",
        "  for i in range(1, dt.shape[0]):\n",
        "    pres=dt['타이어 압력'].iloc[i]\n",
        "    if pres is not first_pres:\n",
        "      count += 1\n",
        "\n",
        "  if (count/len(date_list)) >= 0.3:\n",
        "    harsh += 1\n",
        "  \n",
        "  return harsh"
      ],
      "execution_count": 42,
      "outputs": []
    },
    {
      "cell_type": "code",
      "metadata": {
        "id": "ccDVRbi7MvVp",
        "colab_type": "code",
        "colab": {}
      },
      "source": [
        " def driven_distance(dt): # 20km 이하로 주 3-4회 이상 주행하면 가혹조건 +1 // driven_distance(dist)\n",
        "\n",
        "   AVG_DIST=20\n",
        "   NUM_DIST=3\n",
        "   \n",
        "   harsh=0\n",
        "   avg_dist=np.mean(dt)\n",
        "   num_dist=len(dt)\n",
        "   count=0\n",
        "\n",
        "   for i in range(len(dt)):\n",
        "     check=dt[i]\n",
        "     if check <= AVG_DIST:\n",
        "       count+=1\n",
        "\n",
        "   if count>= NUM_DIST:\n",
        "     harsh=harsh+1\n",
        "    \n",
        "   return harsh"
      ],
      "execution_count": 43,
      "outputs": []
    },
    {
      "cell_type": "code",
      "metadata": {
        "id": "M-a-_CZytISM",
        "colab_type": "code",
        "colab": {}
      },
      "source": [
        "def Harsh_condition(db):\n",
        "  h1=with_n_data(date_list)\n",
        "  h2=pressure(db)\n",
        "  h3=driven_distance(dist)\n",
        "  harsh=h1+h2+h3\n",
        "  \n",
        "  if harsh >= 2:\n",
        "    state='가혹 조건'\n",
        "  \n",
        "  else:\n",
        "    state='통상 조건'\n",
        "\n",
        "  return state\n",
        "\n",
        "state=Harsh_condition(data)"
      ],
      "execution_count": 49,
      "outputs": []
    },
    {
      "cell_type": "code",
      "metadata": {
        "id": "13aBE2kkRkmD",
        "colab_type": "code",
        "colab": {
          "base_uri": "https://localhost:8080/",
          "height": 35
        },
        "outputId": "51e3068d-c271-484c-aed5-eaf2056116c1"
      },
      "source": [
        "print(state)"
      ],
      "execution_count": 50,
      "outputs": [
        {
          "output_type": "stream",
          "text": [
            "가혹 조건\n"
          ],
          "name": "stdout"
        }
      ]
    }
  ]
}