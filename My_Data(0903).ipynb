{
  "nbformat": 4,
  "nbformat_minor": 0,
  "metadata": {
    "colab": {
      "name": "My-Data.ipynb",
      "provenance": [],
      "collapsed_sections": [],
      "authorship_tag": "ABX9TyNHCOMLZ0Mj3cHN/8+/5R2u",
      "include_colab_link": true
    },
    "kernelspec": {
      "name": "python3",
      "display_name": "Python 3"
    }
  },
  "cells": [
    {
      "cell_type": "markdown",
      "metadata": {
        "id": "view-in-github",
        "colab_type": "text"
      },
      "source": [
        "<a href=\"https://colab.research.google.com/github/dohyeonkim2526/MyData-Contest/blob/master/My_Data(0903).ipynb\" target=\"_parent\"><img src=\"https://colab.research.google.com/assets/colab-badge.svg\" alt=\"Open In Colab\"/></a>"
      ]
    },
    {
      "cell_type": "code",
      "metadata": {
        "id": "gNxSEnJAGPjl",
        "colab_type": "code",
        "colab": {
          "base_uri": "https://localhost:8080/",
          "height": 35
        },
        "outputId": "9cbb484b-c35c-418b-f357-4e7653c080f8"
      },
      "source": [
        "from google.colab import drive\n",
        "drive.mount('/content/gdrive')"
      ],
      "execution_count": null,
      "outputs": [
        {
          "output_type": "stream",
          "text": [
            "Drive already mounted at /content/gdrive; to attempt to forcibly remount, call drive.mount(\"/content/gdrive\", force_remount=True).\n"
          ],
          "name": "stdout"
        }
      ]
    },
    {
      "cell_type": "code",
      "metadata": {
        "id": "XQg1cMwkGWME",
        "colab_type": "code",
        "colab": {}
      },
      "source": [
        "import os\n",
        "import pandas as pd\n",
        "import numpy as np\n",
        "\n",
        "dt_dir='/content/gdrive/My Drive' \n",
        "dt_name='데이터.xlsx'\n",
        "dt_dir=os.path.join(dt_dir, dt_name) #희승의 'wb'"
      ],
      "execution_count": null,
      "outputs": []
    },
    {
      "cell_type": "code",
      "metadata": {
        "id": "FAz9f532W8VG",
        "colab_type": "code",
        "colab": {}
      },
      "source": [
        "#승이 기준\n",
        "\n",
        "#from xlrd import oepn_workbook\n",
        "#wb=open_workbook('데이터경로/data.xlsx')\n",
        "#data=pd.read_excel(wb)"
      ],
      "execution_count": null,
      "outputs": []
    },
    {
      "cell_type": "code",
      "metadata": {
        "id": "d8u41mXEG_L5",
        "colab_type": "code",
        "colab": {
          "base_uri": "https://localhost:8080/",
          "height": 411
        },
        "outputId": "73d616f9-1e6d-479b-ceec-ae3569ccc2dc"
      },
      "source": [
        "data=pd.read_excel(dt_dir)\n",
        "data #희승의 'data'"
      ],
      "execution_count": null,
      "outputs": [
        {
          "output_type": "execute_result",
          "data": {
            "text/html": [
              "<div>\n",
              "<style scoped>\n",
              "    .dataframe tbody tr th:only-of-type {\n",
              "        vertical-align: middle;\n",
              "    }\n",
              "\n",
              "    .dataframe tbody tr th {\n",
              "        vertical-align: top;\n",
              "    }\n",
              "\n",
              "    .dataframe thead th {\n",
              "        text-align: right;\n",
              "    }\n",
              "</style>\n",
              "<table border=\"1\" class=\"dataframe\">\n",
              "  <thead>\n",
              "    <tr style=\"text-align: right;\">\n",
              "      <th></th>\n",
              "      <th>주행 기록계 값</th>\n",
              "      <th>기록계 값 차이 (전일 기준) (km)</th>\n",
              "      <th>시간당 기어 수</th>\n",
              "      <th>위도</th>\n",
              "      <th>경도</th>\n",
              "      <th>타이어 압력</th>\n",
              "      <th>가속(150-200km/h)</th>\n",
              "      <th>데이터 기준 일자</th>\n",
              "      <th>데이터 기준 시간</th>\n",
              "    </tr>\n",
              "  </thead>\n",
              "  <tbody>\n",
              "    <tr>\n",
              "      <th>0</th>\n",
              "      <td>57858.9</td>\n",
              "      <td>40.0</td>\n",
              "      <td>2</td>\n",
              "      <td>37.555179</td>\n",
              "      <td>126.970738</td>\n",
              "      <td>35.3</td>\n",
              "      <td>0</td>\n",
              "      <td>2020-08-31</td>\n",
              "      <td>23:50:00</td>\n",
              "    </tr>\n",
              "    <tr>\n",
              "      <th>1</th>\n",
              "      <td>57858.9</td>\n",
              "      <td>40.0</td>\n",
              "      <td>0</td>\n",
              "      <td>37.555179</td>\n",
              "      <td>126.970738</td>\n",
              "      <td>35.3</td>\n",
              "      <td>0</td>\n",
              "      <td>2020-09-01</td>\n",
              "      <td>00:00:00</td>\n",
              "    </tr>\n",
              "    <tr>\n",
              "      <th>2</th>\n",
              "      <td>57858.9</td>\n",
              "      <td>40.0</td>\n",
              "      <td>0</td>\n",
              "      <td>37.555179</td>\n",
              "      <td>126.970738</td>\n",
              "      <td>35.3</td>\n",
              "      <td>0</td>\n",
              "      <td>2020-09-01</td>\n",
              "      <td>00:10:00</td>\n",
              "    </tr>\n",
              "    <tr>\n",
              "      <th>3</th>\n",
              "      <td>57858.9</td>\n",
              "      <td>40.0</td>\n",
              "      <td>0</td>\n",
              "      <td>37.555179</td>\n",
              "      <td>126.970738</td>\n",
              "      <td>35.3</td>\n",
              "      <td>0</td>\n",
              "      <td>2020-09-01</td>\n",
              "      <td>00:20:00</td>\n",
              "    </tr>\n",
              "    <tr>\n",
              "      <th>4</th>\n",
              "      <td>57858.9</td>\n",
              "      <td>40.0</td>\n",
              "      <td>0</td>\n",
              "      <td>37.555179</td>\n",
              "      <td>126.970738</td>\n",
              "      <td>35.3</td>\n",
              "      <td>0</td>\n",
              "      <td>2020-09-01</td>\n",
              "      <td>00:30:00</td>\n",
              "    </tr>\n",
              "    <tr>\n",
              "      <th>...</th>\n",
              "      <td>...</td>\n",
              "      <td>...</td>\n",
              "      <td>...</td>\n",
              "      <td>...</td>\n",
              "      <td>...</td>\n",
              "      <td>...</td>\n",
              "      <td>...</td>\n",
              "      <td>...</td>\n",
              "      <td>...</td>\n",
              "    </tr>\n",
              "    <tr>\n",
              "      <th>141</th>\n",
              "      <td>57903.3</td>\n",
              "      <td>40.0</td>\n",
              "      <td>0</td>\n",
              "      <td>37.556635</td>\n",
              "      <td>126.923633</td>\n",
              "      <td>35.2</td>\n",
              "      <td>0</td>\n",
              "      <td>2020-09-01</td>\n",
              "      <td>23:20:00</td>\n",
              "    </tr>\n",
              "    <tr>\n",
              "      <th>142</th>\n",
              "      <td>57903.3</td>\n",
              "      <td>40.0</td>\n",
              "      <td>0</td>\n",
              "      <td>37.556635</td>\n",
              "      <td>126.923633</td>\n",
              "      <td>35.2</td>\n",
              "      <td>0</td>\n",
              "      <td>2020-09-01</td>\n",
              "      <td>23:30:00</td>\n",
              "    </tr>\n",
              "    <tr>\n",
              "      <th>143</th>\n",
              "      <td>57903.3</td>\n",
              "      <td>40.0</td>\n",
              "      <td>0</td>\n",
              "      <td>37.556635</td>\n",
              "      <td>126.923633</td>\n",
              "      <td>35.2</td>\n",
              "      <td>0</td>\n",
              "      <td>2020-09-01</td>\n",
              "      <td>23:40:00</td>\n",
              "    </tr>\n",
              "    <tr>\n",
              "      <th>144</th>\n",
              "      <td>57903.3</td>\n",
              "      <td>40.0</td>\n",
              "      <td>0</td>\n",
              "      <td>37.556635</td>\n",
              "      <td>126.923633</td>\n",
              "      <td>35.2</td>\n",
              "      <td>0</td>\n",
              "      <td>2020-09-01</td>\n",
              "      <td>23:50:00</td>\n",
              "    </tr>\n",
              "    <tr>\n",
              "      <th>145</th>\n",
              "      <td>57903.3</td>\n",
              "      <td>44.4</td>\n",
              "      <td>0</td>\n",
              "      <td>37.556635</td>\n",
              "      <td>126.923633</td>\n",
              "      <td>35.2</td>\n",
              "      <td>0</td>\n",
              "      <td>2020-09-02</td>\n",
              "      <td>00:00:00</td>\n",
              "    </tr>\n",
              "  </tbody>\n",
              "</table>\n",
              "<p>146 rows × 9 columns</p>\n",
              "</div>"
            ],
            "text/plain": [
              "     주행 기록계 값  기록계 값 차이 (전일 기준) (km)  ...  데이터 기준 일자  데이터 기준 시간\n",
              "0     57858.9                   40.0  ... 2020-08-31   23:50:00\n",
              "1     57858.9                   40.0  ... 2020-09-01   00:00:00\n",
              "2     57858.9                   40.0  ... 2020-09-01   00:10:00\n",
              "3     57858.9                   40.0  ... 2020-09-01   00:20:00\n",
              "4     57858.9                   40.0  ... 2020-09-01   00:30:00\n",
              "..        ...                    ...  ...        ...        ...\n",
              "141   57903.3                   40.0  ... 2020-09-01   23:20:00\n",
              "142   57903.3                   40.0  ... 2020-09-01   23:30:00\n",
              "143   57903.3                   40.0  ... 2020-09-01   23:40:00\n",
              "144   57903.3                   40.0  ... 2020-09-01   23:50:00\n",
              "145   57903.3                   44.4  ... 2020-09-02   00:00:00\n",
              "\n",
              "[146 rows x 9 columns]"
            ]
          },
          "metadata": {
            "tags": []
          },
          "execution_count": 7
        }
      ]
    },
    {
      "cell_type": "code",
      "metadata": {
        "id": "tR2Wyq80IgoZ",
        "colab_type": "code",
        "colab": {}
      },
      "source": [
        "accel_count=data[data['가속(150-200km/h)']==1]"
      ],
      "execution_count": null,
      "outputs": []
    },
    {
      "cell_type": "code",
      "metadata": {
        "id": "m6hx_IfZJlk1",
        "colab_type": "code",
        "colab": {
          "base_uri": "https://localhost:8080/",
          "height": 200
        },
        "outputId": "62fc41db-651c-47fe-e8cd-96c96cfb99f1"
      },
      "source": [
        "accel_count"
      ],
      "execution_count": null,
      "outputs": [
        {
          "output_type": "execute_result",
          "data": {
            "text/html": [
              "<div>\n",
              "<style scoped>\n",
              "    .dataframe tbody tr th:only-of-type {\n",
              "        vertical-align: middle;\n",
              "    }\n",
              "\n",
              "    .dataframe tbody tr th {\n",
              "        vertical-align: top;\n",
              "    }\n",
              "\n",
              "    .dataframe thead th {\n",
              "        text-align: right;\n",
              "    }\n",
              "</style>\n",
              "<table border=\"1\" class=\"dataframe\">\n",
              "  <thead>\n",
              "    <tr style=\"text-align: right;\">\n",
              "      <th></th>\n",
              "      <th>주행 기록계 값</th>\n",
              "      <th>기록계 값 차이 (전일 기준) (km)</th>\n",
              "      <th>시간당 기어 수</th>\n",
              "      <th>위도</th>\n",
              "      <th>경도</th>\n",
              "      <th>타이어 압력</th>\n",
              "      <th>가속(150-200km/h)</th>\n",
              "      <th>데이터 기준 일자</th>\n",
              "      <th>데이터 기준 시간</th>\n",
              "    </tr>\n",
              "  </thead>\n",
              "  <tbody>\n",
              "    <tr>\n",
              "      <th>51</th>\n",
              "      <td>57869.0</td>\n",
              "      <td>40.0</td>\n",
              "      <td>0</td>\n",
              "      <td>37.549004</td>\n",
              "      <td>127.061138</td>\n",
              "      <td>35.3</td>\n",
              "      <td>1</td>\n",
              "      <td>2020-09-01</td>\n",
              "      <td>08:20:00</td>\n",
              "    </tr>\n",
              "    <tr>\n",
              "      <th>52</th>\n",
              "      <td>57874.3</td>\n",
              "      <td>40.0</td>\n",
              "      <td>1</td>\n",
              "      <td>37.591738</td>\n",
              "      <td>127.071242</td>\n",
              "      <td>35.3</td>\n",
              "      <td>1</td>\n",
              "      <td>2020-09-01</td>\n",
              "      <td>08:30:00</td>\n",
              "    </tr>\n",
              "    <tr>\n",
              "      <th>92</th>\n",
              "      <td>57888.2</td>\n",
              "      <td>40.0</td>\n",
              "      <td>0</td>\n",
              "      <td>37.609683</td>\n",
              "      <td>126.992638</td>\n",
              "      <td>35.3</td>\n",
              "      <td>1</td>\n",
              "      <td>2020-09-01</td>\n",
              "      <td>15:10:00</td>\n",
              "    </tr>\n",
              "    <tr>\n",
              "      <th>93</th>\n",
              "      <td>57892.4</td>\n",
              "      <td>40.0</td>\n",
              "      <td>1</td>\n",
              "      <td>37.596339</td>\n",
              "      <td>126.962805</td>\n",
              "      <td>35.2</td>\n",
              "      <td>1</td>\n",
              "      <td>2020-09-01</td>\n",
              "      <td>15:20:00</td>\n",
              "    </tr>\n",
              "    <tr>\n",
              "      <th>95</th>\n",
              "      <td>57903.3</td>\n",
              "      <td>40.0</td>\n",
              "      <td>0</td>\n",
              "      <td>37.556635</td>\n",
              "      <td>126.923633</td>\n",
              "      <td>35.2</td>\n",
              "      <td>1</td>\n",
              "      <td>2020-09-01</td>\n",
              "      <td>15:40:00</td>\n",
              "    </tr>\n",
              "  </tbody>\n",
              "</table>\n",
              "</div>"
            ],
            "text/plain": [
              "    주행 기록계 값  기록계 값 차이 (전일 기준) (km)  ...  데이터 기준 일자  데이터 기준 시간\n",
              "51   57869.0                   40.0  ... 2020-09-01   08:20:00\n",
              "52   57874.3                   40.0  ... 2020-09-01   08:30:00\n",
              "92   57888.2                   40.0  ... 2020-09-01   15:10:00\n",
              "93   57892.4                   40.0  ... 2020-09-01   15:20:00\n",
              "95   57903.3                   40.0  ... 2020-09-01   15:40:00\n",
              "\n",
              "[5 rows x 9 columns]"
            ]
          },
          "metadata": {
            "tags": []
          },
          "execution_count": 22
        }
      ]
    }
  ]
}